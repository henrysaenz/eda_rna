{
 "cells": [
  {
   "cell_type": "markdown",
   "metadata": {},
   "source": [
    "# Introduction to Single-Cell RNA Sequencing\n",
    "\n",
    "Single-cell RNA sequencing (scRNA-seq) is a cutting-edge technique that allows researchers to analyze the gene expression of individual cells in a tissue sample. Unlike traditional RNA sequencing (bulk RNA-seq), which measures the average gene expression across a population of cells, scRNA-seq provides a much more granular view by examining the transcriptome (the complete set of RNA molecules) of each single cell. This is important because cells within the same tissue or organ can have very different functions, behaviors, and gene expression profiles, even if they look similar under a microscope.\n",
    "\n",
    "## Key Concepts of Single-cell RNA-seq\n",
    "\n",
    "1. **Single-cell Resolution:** scRNA-seq captures gene expression data at the level of individual cells, providing insights into cellular heterogeneity that would be missed with bulk RNA-seq.\n",
    "\n",
    "2. **Cell Type Identification:** By analyzing the gene expression profiles of individual cells, researchers can classify cells into different types, even rare or novel cell types that were previously difficult to identify.\n",
    "\n",
    "3. **Gene Expression Profiling:** scRNA-seq allows scientists to study which genes are active in each cell, and how the expression of those genes differs across the population of cells. This helps in understanding cell functions, signaling pathways, and responses to stimuli.\n",
    "\n",
    "4. **Transcriptomic Analysis:** The process involves isolating individual cells from a sample (such as a tissue or blood sample), extracting their RNA, and then sequencing it. This data is then analyzed to understand the functional state of each cell and how cells interact within a tissue.\n"
   ]
  },
  {
   "cell_type": "markdown",
   "metadata": {},
   "source": [
    "## Single Cell RNA Sequency workflow"
   ]
  },
  {
   "cell_type": "markdown",
   "metadata": {},
   "source": [
    "- Single cell sequencing examines the sequence information from individual cells with optimized next-generation sequencing (NGS) technologies, providing a higher resolution of cellular differences and a better understanding of the function of an individual cell in the context of its microenvironment.\n",
    "- For example, in cancer, sequencing the DNA of individual cells can give information about mutations carried by small populations of cells.\n",
    "- In development, sequencing the RNAs expressed by individual cells can give insight into the existence and behavior of different cell types.\n",
    "- In microbial systems, a population of the same species can appear to be genetically clonal, but single-cell sequencing of RNA or epigenetic modifications can reveal cell-to-cell variability that may help populations rapidly adapt to survive in changing environments."
   ]
  },
  {
   "cell_type": "markdown",
   "metadata": {},
   "source": [
    "\n",
    "#### 1. Sample Collection\n",
    "- The process starts with an **environmental sample** (e.g., water, soil) or **organ tissue** (e.g., liver).\n",
    "\n",
    "#### 2. Single Cell Isolation\n",
    "Cells are isolated using one of the following techniques:\n",
    "- **Laser Capture Microdissection (LCM):** A laser is used to cut and capture specific cells.\n",
    "- **Fluorescence-Activated Cell Sorting (FACS):** Cells are sorted based on fluorescent markers.\n",
    "- **Microfluidics:** Cells are separated in microdroplets using fluid dynamics.\n",
    "\n",
    "#### 3. DNA Extraction\n",
    "- The DNA from the isolated single cell is extracted.\n",
    "\n",
    "#### 4. Multiple Displacement Amplification (MDA)\n",
    "- This method amplifies the extracted DNA to generate enough material for sequencing.\n",
    "\n",
    "#### 5. Library Preparation for Sequencing\n",
    "- The amplified DNA is fragmented and prepared as a sequencing library.\n",
    "\n",
    "#### 6. DNA Sequencing\n",
    "- The sequencing machine reads the DNA fragments, generating raw sequence data.\n",
    "\n",
    "#### 7. Data Analysis (SNP, CNV, and Cell Type Identification)\n",
    "Bioinformatics analysis identifies:\n",
    "- **Single Nucleotide Polymorphisms (SNPs):** Small genetic variations.\n",
    "- **Copy Number Variations (CNVs):** Large duplications or deletions in the genome.\n",
    "- **Cell Type Classification:** Determines different cell types based on genetic information.\n",
    "\n"
   ]
  },
  {
   "cell_type": "markdown",
   "metadata": {},
   "source": [
    "<div style=\"text-align: center;\">\n",
    "    <img src=\"https://github.com/henrysaenz/eda_rna/blob/main/RNA-Seq_workflow-5.pdf.jpg?raw=true\" alt=\" \" width= \"600\"/>\n",
    "</div>"
   ]
  },
  {
   "cell_type": "markdown",
   "metadata": {},
   "source": [
    "# Single-Cell RNA Sequencing Isolation Analysis Workflow\n",
    "\n",
    "## **Pre-Processing**\n",
    "\n",
    "### 1. Raw Data Processing\n",
    "- Data is obtained from single-cell sequencing experiments.\n",
    "- The raw sequencing reads are processed to generate **count matrices**, where rows represent genes and columns represent cells.\n",
    "\n",
    "### 2. Quality Control\n",
    "- The **count depth** of each cell is examined to filter out low-quality cells.\n",
    "- Ensures that cells with too few or too many detected genes are removed.\n",
    "\n",
    "### 3. Normalization\n",
    "- Adjusts for differences in sequencing depth across cells using **size factors**.\n",
    "- This step ensures comparability between cells.\n",
    "\n",
    "### 4. Data Correction (e.g., Batch Effect Removal)\n",
    "- Corrects for unwanted technical variations (batch effects) that could distort biological signals.\n",
    "- Visualization before and after correction shows improved clustering.\n",
    "\n",
    "### 5. Feature Selection\n",
    "- Identifies **highly variable genes**, which provide the most meaningful biological signals.\n",
    "- Filters out genes with low or non-informative variability.\n",
    "\n",
    "### 6. Visualization\n",
    "- The processed data is visualized in a reduced-dimensional space (e.g., t-SNE or UMAP) to observe clustering patterns.\n",
    "\n",
    "---\n",
    "\n",
    "## **Downstream Analysis**\n",
    "\n",
    "### 7. Clustering\n",
    "- Cells are grouped into clusters based on their gene expression profiles.\n",
    "- Helps identify distinct cell populations.\n",
    "\n",
    "### 8. Marker Identification & Cluster Annotation\n",
    "- **Marker genes** are identified for each cluster.\n",
    "- Clusters are annotated to classify cell types (e.g., **stem cells, Paneth cells, goblet cells, enterocytes**).\n",
    "\n",
    "### 9. Trajectory Inference\n",
    "- **Lineage relationships** between cells are reconstructed.\n",
    "- Cells are mapped along differentiation pathways (e.g., **progenitor cells to stem cells**).\n",
    "\n",
    "### 10. Gene Dynamics\n",
    "- Gene expression changes are analyzed over **pseudotime**.\n",
    "- Helps track the dynamic progression of gene expression during differentiation.\n",
    "\n",
    "### 11. Metastable States\n",
    "- Identifies transitional cellular states by analyzing gene expression over time.\n",
    "\n",
    "### 12. Differential Expression Analysis\n",
    "- Compares gene expression levels between conditions.\n",
    "- Volcano plots visualize significantly differentially expressed genes.\n",
    "\n",
    "### 13. Compositional Analysis\n",
    "- Compares cell composition under different experimental conditions (**Condition 1 vs. Condition 2**).\n",
    "- Identifies shifts in cell populations.\n",
    "\n",
    "\n"
   ]
  },
  {
   "cell_type": "markdown",
   "metadata": {},
   "source": [
    "<div style=\"text-align: center;\">\n",
    "    <img src=\"https://github.com/henrysaenz/eda_rna/blob/main/msb188746-fig-0001-m.jpg?raw=true\" alt=\" \" width= \"600\"/>\n",
    "</div>"
   ]
  }
 ],
 "metadata": {
  "language_info": {
   "name": "python"
  }
 },
 "nbformat": 4,
 "nbformat_minor": 2
}