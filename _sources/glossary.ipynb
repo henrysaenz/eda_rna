{
 "cells": [
  {
   "cell_type": "markdown",
   "id": "29141b9b",
   "metadata": {},
   "source": [
    "# Important Concepts and Metrics Used for scRNA-seq Analysis"
   ]
  },
  {
   "cell_type": "markdown",
   "id": "89b239af",
   "metadata": {},
   "source": [
    "## Concepts in the scRNA - seq Analysis"
   ]
  },
  {
   "cell_type": "markdown",
   "id": "298194e2",
   "metadata": {},
   "source": [
    "```{admonition}Gene\n",
    "A **gene** is a sequence of DNA that contains the instructions to produce a specific molecule, typically a protein or functional RNA. In scRNA-seq, gene expression is quantified by counting the RNA molecules transcribed from genes.\n",
    "```"
   ]
  },
  {
   "cell_type": "markdown",
   "id": "ccab6959",
   "metadata": {},
   "source": [
    "```{admonition}\n",
    "\n",
    "```"
   ]
  },
  {
   "cell_type": "markdown",
   "id": "e4c6baa4",
   "metadata": {},
   "source": [
    "```{admonition}Cells\n",
    "**Cells** are the basic structural and functional units of all living organisms. In scRNA-seq, each cell is analyzed individually to understand its gene expression profile.\n",
    "```"
   ]
  },
  {
   "cell_type": "markdown",
   "id": "738d9401",
   "metadata": {},
   "source": [
    "```{admonition}\n",
    "\n",
    "```"
   ]
  },
  {
   "cell_type": "markdown",
   "id": "33c57a09",
   "metadata": {},
   "source": [
    "```{admonition}RNA\n",
    "**RNA (Ribonucleic Acid)** is a nucleic acid that plays essential roles in coding, decoding, regulation, and expression of genes. scRNA-seq measures the amount of RNA in each cell to infer gene expression.\n",
    "```"
   ]
  },
  {
   "cell_type": "markdown",
   "id": "7256d24c",
   "metadata": {},
   "source": [
    "```{admonition}\n",
    "\n",
    "```"
   ]
  },
  {
   "cell_type": "markdown",
   "id": "34209aaf",
   "metadata": {},
   "source": [
    "```{admonition}Apoptosis\n",
    "**Apoptosis** is a form of programmed cell death that occurs in multicellular organisms. It is characterized by specific cellular changes such as cell shrinkage, chromatin condensation, and membrane blebbing.\n",
    "```"
   ]
  },
  {
   "cell_type": "markdown",
   "id": "644d6977",
   "metadata": {},
   "source": [
    "```{admonition}\n",
    "\n",
    "```"
   ]
  },
  {
   "cell_type": "markdown",
   "id": "b10fa5af",
   "metadata": {},
   "source": [
    "```{admonition}Apoptotic Cell\n",
    "An **apoptotic cell** is a cell undergoing apoptosis. In scRNA-seq, high mitochondrial gene expression is often used as an indicator of apoptosis.\n",
    "```"
   ]
  },
  {
   "cell_type": "markdown",
   "id": "3c618e56",
   "metadata": {},
   "source": [
    "```{admonition}\n",
    "\n",
    "```"
   ]
  },
  {
   "cell_type": "markdown",
   "id": "95f34fde",
   "metadata": {},
   "source": [
    "```{admonition}Gene Detection Rate\n",
    "The **Gene Detection Rate** is the proportion of genes detected (i.e., with non-zero expression) in a given cell. It serves as a quality metric.\n",
    "\n",
    "**Formula:**\n",
    "$$\n",
    "\\text{Gene Detection Rate} = \\frac{\\text{Number of detected genes in a cell}}{\\text{Total number of genes}}\n",
    "$$\n",
    "```"
   ]
  },
  {
   "cell_type": "markdown",
   "id": "bc6937db",
   "metadata": {},
   "source": [
    "```{admonition}\n",
    "\n",
    "```"
   ]
  },
  {
   "cell_type": "markdown",
   "id": "9b1b8043",
   "metadata": {},
   "source": [
    "```{admonition}Mitochondrial Cells\n",
    "In the context of scRNA-seq, **mitochondrial cells** usually refer to cells with abnormally high proportions of reads mapped to mitochondrial genes, often considered stressed or dying.\n",
    "```"
   ]
  },
  {
   "cell_type": "markdown",
   "id": "a2bb6fb6",
   "metadata": {},
   "source": [
    "```{admonition}\n",
    "\n",
    "```"
   ]
  },
  {
   "cell_type": "markdown",
   "id": "7c3fedb4",
   "metadata": {},
   "source": [
    "```{admonition}Mitochondrial Proportion\n",
    "The **Mitochondrial Proportion** is the percentage of total reads in a cell that map to mitochondrial genes. High values suggest cell stress or apoptosis.\n",
    "\n",
    "**Formula:**\n",
    "$$\n",
    "\\text{Mitochondrial Proportion} = \\frac{\\text{Mitochondrial gene counts}}{\\text{Total gene counts}} \\times 100\n",
    "$$\n",
    "```"
   ]
  },
  {
   "cell_type": "markdown",
   "id": "9fdbc101",
   "metadata": {},
   "source": [
    "```{admonition}\n",
    "\n",
    "```"
   ]
  },
  {
   "cell_type": "markdown",
   "id": "2d8a19ef",
   "metadata": {},
   "source": [
    "```{admonition}UMI Counts\n",
    "**Unique Molecular Identifiers (UMIs)** are short sequences used to count unique RNA molecules, minimizing amplification bias during PCR. Total UMI counts per cell indicate its transcriptome size.\n",
    "```"
   ]
  },
  {
   "cell_type": "markdown",
   "id": "115d20b6",
   "metadata": {},
   "source": [
    "```{admonition}Batch\n",
    "A **batch** refers to a group of cells that have been processed together under the same experimental conditions. Variability between batches is common and can introduce confounding effects.\n",
    "```"
   ]
  },
  {
   "cell_type": "markdown",
   "id": "cc63edd3",
   "metadata": {},
   "source": [
    "```{admonition}\n",
    "\n",
    "```"
   ]
  },
  {
   "cell_type": "markdown",
   "id": "3b6a481b",
   "metadata": {},
   "source": [
    "```{admonition}Batch Effect\n",
    "**Batch Effect** is the unwanted variation in data due to technical differences between batches (e.g., reagent lots, sequencing runs), rather than biological differences.\n",
    "```"
   ]
  },
  {
   "cell_type": "markdown",
   "id": "330e9c96",
   "metadata": {},
   "source": [
    "```{admonition}\n",
    "\n",
    "```"
   ]
  },
  {
   "cell_type": "markdown",
   "id": "ed271f54",
   "metadata": {},
   "source": [
    "```{admonition}Normalization\n",
    "**Normalization** is the process of adjusting raw gene expression counts to account for differences in sequencing depth and other technical factors across cells.\n",
    "```"
   ]
  },
  {
   "cell_type": "markdown",
   "id": "eaf043c6",
   "metadata": {},
   "source": [
    "```{admonition}\n",
    "\n",
    "```"
   ]
  },
  {
   "cell_type": "markdown",
   "id": "dbadd80b",
   "metadata": {},
   "source": [
    "```{admonition}Log Normalization\n",
    "**Log Normalization** transforms the normalized counts using a logarithmic function to stabilize variance across genes.\n",
    "\n",
    "**Formula:**\n",
    "$$\n",
    "\\text{LogNormalized}(x) = \\log_2\\left(\\frac{x}{\\text{total counts per cell}} \\times \\text{scale factor} + 1\\right)\n",
    "$$\n",
    "Typically, the scale factor is 10,000.\n",
    "```"
   ]
  },
  {
   "cell_type": "markdown",
   "id": "40210150",
   "metadata": {},
   "source": [
    "```{admonition}\n",
    "\n",
    "```"
   ]
  },
  {
   "cell_type": "markdown",
   "id": "c8118be6",
   "metadata": {},
   "source": [
    "```{admonition}Highly Variable Genes (HVGs)\n",
    "**Highly Variable Genes (HVGs)** are genes that show greater expression variability across cells than expected by chance. HVGs are useful for downstream dimensionality reduction and clustering.\n",
    "```"
   ]
  },
  {
   "cell_type": "markdown",
   "id": "6801d228",
   "metadata": {},
   "source": [
    "```{admonition}\n",
    "\n",
    "```"
   ]
  },
  {
   "cell_type": "markdown",
   "id": "d700b759",
   "metadata": {},
   "source": [
    "```{admonition}Principal Component Analysis (PCA)\n",
    "**PCA** is a linear dimensionality reduction technique that transforms the data into a set of orthogonal axes (principal components), each capturing a portion of the variance.\n",
    "\n",
    "**Formula:**\n",
    "PCA is computed by solving:\n",
    "$$\n",
    "\\text{Cov}(X) = V \\Lambda V^T\n",
    "$$\n",
    "Where:\n",
    "- $X$: mean-centered gene expression matrix  \n",
    "- $V$: eigenvectors (principal components)  \n",
    "- $\\Lambda$: eigenvalues (explained variances)\n",
    "```"
   ]
  },
  {
   "cell_type": "markdown",
   "id": "b4937c19",
   "metadata": {},
   "source": [
    "```{admonition}\n",
    "\n",
    "```"
   ]
  },
  {
   "cell_type": "markdown",
   "id": "629b656a",
   "metadata": {},
   "source": [
    "```{admonition}\n",
    "\n",
    "```"
   ]
  },
  {
   "cell_type": "markdown",
   "id": "0b80f185",
   "metadata": {},
   "source": [
    "## Key Metrics in scRNA seq Analysis"
   ]
  },
  {
   "cell_type": "markdown",
   "id": "be96036f",
   "metadata": {},
   "source": [
    "```{admonition}Total Loss (ZINB Loss)\n",
    "\n",
    "Combines NB loss, dropout loss, and KL divergence with a weighting term \\( \\beta \\).\n",
    "\n",
    "**Formula:**\n",
    "\n",
    "$$\n",
    "\\mathcal{L}_{Total} = \\mathcal{L}_{NB} + \\mathcal{L}_{Bern} + \\beta \\cdot \\mathcal{L}_{KL}\n",
    "$$```"
   ]
  },
  {
   "cell_type": "markdown",
   "id": "320b7f9c",
   "metadata": {},
   "source": [
    "```{admonition}KL Divergence (Kullback-Leibler)\n",
    "\n",
    "Measures divergence between posterior $q(z|x)$ and prior $p(z)$, used in VAEs.\n",
    "\n",
    "**Formula:**\n",
    "\n",
    "$$\n",
    "\\mathcal{L}_{KL} = -\\frac{1}{2} \\sum_{i=1}^n \\left( 1 + \\log \\sigma_i^2 - \\mu_i^2 - \\sigma_i^2 \\right)\n",
    "$$\n",
    "\n",
    "```"
   ]
  },
  {
   "cell_type": "markdown",
   "id": "cd20cd69",
   "metadata": {},
   "source": [
    "```{admonition}\n",
    "\n",
    "```"
   ]
  },
  {
   "cell_type": "markdown",
   "id": "4cdd5e05",
   "metadata": {},
   "source": [
    "```{admonition}Bernoulli Dropout Loss\n",
    "\n",
    "Models dropout events as a Bernoulli process with probability $p_0$.\n",
    "\n",
    "**Formula:**\n",
    "\n",
    "$$\n",
    "\\mathcal{L}_{Bern} = - \\sum_{i,j} \\left[ x_{ij} \\log(1 - p_{0ij}) + (1 - x_{ij}) \\log(p_{0ij}) \\right]\n",
    "$$\n",
    "\n",
    "```"
   ]
  },
  {
   "cell_type": "markdown",
   "id": "d061aa16",
   "metadata": {},
   "source": [
    "```{admonition}Negative Binomial Loss (NB)\n",
    "\n",
    "Used to model count data with overdispersion. Assumes each gene follows a NB distribution.\n",
    "\n",
    "**Formula:**\n",
    "\n",
    "$$\n",
    "\\mathcal{L}_{NB} = - \\sum_{i,j} \\left[ \\log \\Gamma(x_{ij} + \\theta) - \\log \\Gamma(x_{ij} + 1) - \\log \\Gamma(\\theta) + x_{ij} \\log(\\mu_{ij}) + \\theta \\log \\left( \\frac{\\theta}{\\theta + \\mu_{ij}} \\right) \\right]\n",
    "$$\n",
    "```"
   ]
  },
  {
   "cell_type": "markdown",
   "id": "bc2e6acc",
   "metadata": {},
   "source": [
    "```{admonition}\n",
    "\n",
    "```"
   ]
  },
  {
   "cell_type": "markdown",
   "id": "c516b344",
   "metadata": {},
   "source": [
    "```{admonition}Silhouette Score\n",
    "\n",
    "Assesses how similar a cell is to its own cluster versus other clusters.\n",
    "\n",
    "**Formula:**\n",
    "\n",
    "$$\n",
    "s(i) = \\frac{b(i) - a(i)}{max(a(i), b(i))}\n",
    "$$\n",
    "\n",
    "Where:\n",
    "- $a(i)$ = mean intra-cluster distance\n",
    "- $b(i)$ = mean nearest-cluster distance\n",
    "```"
   ]
  },
  {
   "cell_type": "markdown",
   "id": "e5bd77ae",
   "metadata": {},
   "source": [
    "```{admonition} Adjusted Rand Index (ARI)\n",
    "\n",
    "Evaluates clustering similarity between predicted and true labels, adjusted for chance.\n",
    "\n",
    "**Formula:**\n",
    "\n",
    "$$\n",
    "ARI = \\frac{RI - E[RI]}{max(RI) - E[RI]}\n",
    "$$\n",
    "\n",
    "Where $RI$ is the Rand Index.\n",
    "\n",
    "```"
   ]
  },
  {
   "cell_type": "markdown",
   "id": "5a9e3e4a",
   "metadata": {},
   "source": [
    "```{admonition}\n",
    "\n",
    "```"
   ]
  },
  {
   "cell_type": "markdown",
   "id": "edf4aa65",
   "metadata": {},
   "source": [
    "```{admonition}Normalized Mutual Information (NMI)\n",
    "\n",
    "Measures mutual dependence between predicted and true clusters.\n",
    "\n",
    "**Formula:**\n",
    "\n",
    "$$\n",
    "NMI = \\frac{2 \\cdot I(Y; \\hat{Y})}{H(Y) + H(\\hat{Y})}\n",
    "$$\n",
    "\n",
    "Where:\n",
    "- $I$ is mutual information.\n",
    "- $H$ is entropy.\n",
    "\n",
    "```"
   ]
  },
  {
   "cell_type": "markdown",
   "id": "ccd7c90c",
   "metadata": {},
   "source": [
    "```{admonition}\n",
    "\n",
    "```"
   ]
  },
  {
   "cell_type": "markdown",
   "id": "f593cfec",
   "metadata": {},
   "source": [
    "```{admonition}Calinski-Harabasz Index\n",
    "\n",
    "Cluster dispersion score; higher values indicate better-defined clusters.\n",
    "\n",
    "**Formula:**\n",
    "\n",
    "$$\n",
    "CH = \\frac{Tr(B_k)}{k - 1} \\cdot \\frac{n - k}{Tr(W_k)}\n",
    "$$\n",
    "\n",
    "Where:\n",
    "- $Tr(B_k)$ = between-cluster dispersion\n",
    "- $Tr(W_k)$ = within-cluster dispersion\n",
    "- $k$ = number of clusters\n",
    "- $n$ = total number of samples\n",
    "```"
   ]
  },
  {
   "cell_type": "markdown",
   "id": "936fd634",
   "metadata": {},
   "source": [
    "```{admonition}\n",
    "\n",
    "```"
   ]
  },
  {
   "cell_type": "markdown",
   "metadata": {},
   "source": [
    "```{admonition}Pearson Correlation Coefficient\n",
    "\n",
    "Measures linear correlation between real and reconstructed gene expressions.\n",
    "\n",
    "**Formula:**\n",
    "\n",
    "$$\n",
    "r = \\frac{\\sum_i (x_i - \\bar{x})(\\hat{x}_i - \\bar{\\hat{x}})}{\\sqrt{\\sum_i (x_i - \\bar{x})^2 \\sum_i (\\hat{x}_i - \\bar{\\hat{x}})^2}}\n",
    "$$\n",
    "```"
   ]
  },
  {
   "cell_type": "markdown",
   "id": "a820c8a9",
   "metadata": {},
   "source": [
    "```{admonition}\n",
    "\n",
    "```"
   ]
  },
  {
   "cell_type": "markdown",
   "id": "cbf969bc",
   "metadata": {},
   "source": [
    "```{admonition}Reconstruction Loss (MSE)\n",
    "\n",
    "Basic loss function to measure average squared difference between original and reconstructed values.\n",
    "\n",
    "**Formula:**\n",
    "\n",
    "$$\n",
    "MSE = \\frac{1}{n} \\sum_{i=1}^{n} (x_i - \\hat{x}_i)^2\n",
    "$$\n",
    "```"
   ]
  },
  {
   "cell_type": "markdown",
   "id": "89398c32",
   "metadata": {},
   "source": []
  }
 ],
 "metadata": {
  "language_info": {
   "name": "python"
  }
 },
 "nbformat": 4,
 "nbformat_minor": 5
}
